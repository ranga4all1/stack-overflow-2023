{
 "cells": [
  {
   "cell_type": "code",
   "execution_count": 1,
   "metadata": {},
   "outputs": [],
   "source": [
    "import os\n",
    "import pickle\n",
    "import click\n",
    "import mlflow\n",
    "from joblib import load, dump\n",
    "from google.cloud import storage\n",
    "from mlflow.pyfunc import load_model\n",
    "\n",
    "from mlflow.entities import ViewType\n",
    "from mlflow.tracking import MlflowClient\n",
    "from catboost import Pool, CatBoostRegressor\n",
    "from sklearn.metrics import mean_squared_error"
   ]
  },
  {
   "cell_type": "code",
   "execution_count": 2,
   "metadata": {},
   "outputs": [
    {
     "data": {
      "text/plain": [
       "<Experiment: artifact_location='gs://rh-mlflow-cb-stack-overflow/1', creation_time=1690306440261, experiment_id='1', last_update_time=1690306440261, lifecycle_stage='active', name='catboost-stack-overflow-train', tags={}>"
      ]
     },
     "execution_count": 2,
     "metadata": {},
     "output_type": "execute_result"
    }
   ],
   "source": [
    "EXPERIMENT_NAME = \"catboost-stack-overflow-train\"\n",
    "mlflow.set_tracking_uri(\"http://127.0.0.1:5000\")\n",
    "mlflow.set_experiment(EXPERIMENT_NAME)"
   ]
  },
  {
   "cell_type": "code",
   "execution_count": 3,
   "metadata": {},
   "outputs": [],
   "source": [
    "client = MlflowClient()"
   ]
  },
  {
   "cell_type": "code",
   "execution_count": 4,
   "metadata": {},
   "outputs": [],
   "source": [
    "experiment = client.get_experiment_by_name(EXPERIMENT_NAME)\n",
    "best_run = client.search_runs(\n",
    "    experiment_ids=experiment.experiment_id,\n",
    "    run_view_type=ViewType.ACTIVE_ONLY,\n",
    "    max_results=10,\n",
    "    order_by=[\"metrics.test_rmse ASC\"],\n",
    ")[0]"
   ]
  },
  {
   "cell_type": "code",
   "execution_count": 5,
   "metadata": {},
   "outputs": [
    {
     "data": {
      "text/plain": [
       "<Run: data=<RunData: metrics={'rmse_bs_test': 59.11909494549302, 'rmse_test': 34.34276309658149}, params={'depth': '4',\n",
       " 'iterations': '957',\n",
       " 'l2_leaf_reg': '17',\n",
       " 'learning_rate': '0.18094505491408697',\n",
       " 'loss_function': 'RMSE',\n",
       " 'random_seed': '14',\n",
       " 'verbose': '0'}, tags={'mlflow.runName': 'beautiful-bat-446',\n",
       " 'mlflow.source.name': 'experiment-tracking/train.py',\n",
       " 'mlflow.source.type': 'LOCAL',\n",
       " 'mlflow.user': 'ranga'}>, info=<RunInfo: artifact_uri='gs://rh-mlflow-cb-stack-overflow/1/713593712ad44598aae9993971aa1918/artifacts', end_time=1691788604281, experiment_id='1', lifecycle_stage='active', run_id='713593712ad44598aae9993971aa1918', run_name='beautiful-bat-446', run_uuid='713593712ad44598aae9993971aa1918', start_time=1691788542812, status='FINISHED', user_id='ranga'>, inputs=<RunInputs: dataset_inputs=[]>>"
      ]
     },
     "execution_count": 5,
     "metadata": {},
     "output_type": "execute_result"
    }
   ],
   "source": [
    "best_run"
   ]
  },
  {
   "cell_type": "code",
   "execution_count": 6,
   "metadata": {},
   "outputs": [],
   "source": [
    "run_id = best_run.info.run_id"
   ]
  },
  {
   "cell_type": "code",
   "execution_count": 7,
   "metadata": {},
   "outputs": [
    {
     "data": {
      "text/plain": [
       "'713593712ad44598aae9993971aa1918'"
      ]
     },
     "execution_count": 7,
     "metadata": {},
     "output_type": "execute_result"
    }
   ],
   "source": [
    "run_id"
   ]
  },
  {
   "cell_type": "code",
   "execution_count": 8,
   "metadata": {},
   "outputs": [
    {
     "name": "stdout",
     "output_type": "stream",
     "text": [
      "Blob 1/713593712ad44598aae9993971aa1918/artifacts/model/sf_catboost.bin downloaded to model/sf_catboost.bin\n"
     ]
    }
   ],
   "source": [
    "bucket_name = 'rh-mlflow-cb-stack-overflow'\n",
    "\n",
    "model_uri = f\"gs://{bucket_name}/1/{run_id}/artifacts/model/\"\n",
    "local_model_path = \"model/\"\n",
    "\n",
    "# Create the local directory if it doesn't exist\n",
    "os.makedirs(local_model_path, exist_ok=True)\n",
    "\n",
    "def download_blob(bucket_name, source_blob_name, destination_file_name):\n",
    "    \"\"\"Downloads a blob from the bucket.\"\"\"\n",
    "    storage_client = storage.Client()\n",
    "    bucket = storage_client.bucket(bucket_name)\n",
    "    blob = bucket.blob(source_blob_name)\n",
    "    blob.download_to_filename(destination_file_name)\n",
    "    print(f\"Blob {source_blob_name} downloaded to {destination_file_name}\")\n",
    "\n",
    "download_blob(bucket_name, f\"1/{run_id}/artifacts/model/sf_catboost.bin\", f\"{local_model_path}sf_catboost.bin\")"
   ]
  },
  {
   "cell_type": "code",
   "execution_count": null,
   "metadata": {},
   "outputs": [],
   "source": [
    "# # load the model into memory\n",
    "# loaded_model = load('model/sf_catboost.bin')"
   ]
  },
  {
   "cell_type": "code",
   "execution_count": 12,
   "metadata": {},
   "outputs": [
    {
     "name": "stderr",
     "output_type": "stream",
     "text": [
      "Registered model 'catboost-best-model' already exists. Creating a new version of this model...\n",
      "2023/08/12 00:55:23 INFO mlflow.tracking._model_registry.client: Waiting up to 300 seconds for model version to finish creation. Model name: catboost-best-model, version 3\n",
      "Created version '3' of model 'catboost-best-model'.\n"
     ]
    },
    {
     "data": {
      "text/plain": [
       "<ModelVersion: aliases=[], creation_timestamp=1691801723735, current_stage='None', description='', last_updated_timestamp=1691801723735, name='catboost-best-model', run_id='', run_link='', source='gs://rh-mlflow-cb-stack-overflow/1/713593712ad44598aae9993971aa1918/artifacts/model/', status='READY', status_message='', tags={}, user_id='', version='3'>"
      ]
     },
     "execution_count": 12,
     "metadata": {},
     "output_type": "execute_result"
    }
   ],
   "source": [
    "mlflow.register_model(model_uri, name=\"catboost-best-model\")"
   ]
  },
  {
   "cell_type": "code",
   "execution_count": null,
   "metadata": {},
   "outputs": [],
   "source": []
  }
 ],
 "metadata": {
  "kernelspec": {
   "display_name": "stack-overflow",
   "language": "python",
   "name": "python3"
  },
  "language_info": {
   "codemirror_mode": {
    "name": "ipython",
    "version": 3
   },
   "file_extension": ".py",
   "mimetype": "text/x-python",
   "name": "python",
   "nbconvert_exporter": "python",
   "pygments_lexer": "ipython3",
   "version": "3.11.4"
  },
  "orig_nbformat": 4
 },
 "nbformat": 4,
 "nbformat_minor": 2
}
